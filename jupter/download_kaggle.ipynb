{
 "cells": [
  {
   "cell_type": "code",
   "execution_count": 2,
   "source": [
    "from opendatasets.utils.kaggle_api import download_kaggle_dataset"
   ],
   "outputs": [],
   "metadata": {}
  },
  {
   "cell_type": "code",
   "execution_count": 30,
   "source": [
    "download_kaggle_dataset(\"https://www.kaggle.com/ealaxi/banksim1?select=bs140513_032310.csv\", data_dir='./tmp', force=False)"
   ],
   "outputs": [
    {
     "output_type": "stream",
     "name": "stdout",
     "text": [
      "Skipping, found downloaded files in \"./tmp\\banksim1\" (use force=True to force download)\n"
     ]
    }
   ],
   "metadata": {}
  }
 ],
 "metadata": {
  "orig_nbformat": 4,
  "language_info": {
   "name": "python",
   "version": "3.9.6",
   "mimetype": "text/x-python",
   "codemirror_mode": {
    "name": "ipython",
    "version": 3
   },
   "pygments_lexer": "ipython3",
   "nbconvert_exporter": "python",
   "file_extension": ".py"
  },
  "kernelspec": {
   "name": "python3",
   "display_name": "Python 3.9.6 64-bit"
  },
  "interpreter": {
   "hash": "3a680d6674ca78b15be837465dbe44d738b705c9b76da5dc6383fc2a2813cbb7"
  }
 },
 "nbformat": 4,
 "nbformat_minor": 2
}